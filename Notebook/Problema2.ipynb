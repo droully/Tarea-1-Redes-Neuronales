{
 "cells": [
  {
   "cell_type": "code",
   "execution_count": 15,
   "metadata": {
    "collapsed": true
   },
   "outputs": [],
   "source": [
    "import numpy as np\n",
    "\n",
    "\n",
    "#Inicilizar la red con todos los pesos nulos\n",
    "def red(n_inputs, n_hidden, n_outputs):\n",
    "\tred = []\n",
    "\thidden_layer = [{'weights':[0 for i in range(n_inputs + 1)]} for i in range(n_hidden)]\n",
    "\tred.append(hidden_layer)\n",
    "\toutput_layer = [{'weights':[0 for i in range(n_hidden + 1)]} for i in range(n_outputs)]\n",
    "\tred.append(output_layer)\n",
    "\treturn red\n",
    "\n",
    "# forwardpass\n",
    "def forward(red, inputs):\n",
    "\tlista = inputs\n",
    "\tfor capa in red:\n",
    "\t\tnew_inputs = []\n",
    "\t\tfor neuron in capa:\n",
    "\t\t\t\n",
    "\t\t\tact=np.dot(neuron[\"weights\"][0:-1],lista[0:len(neuron[\"weights\"])])+neuron[\"weights\"][-1]#activa\n",
    "\t\t\tneuron['output'] = 1.0/(1.0+np.exp(-act)) #sigmoide\n",
    "\t\t\tnew_inputs.append(neuron['output'])\n",
    "\t\t\t\n",
    "\t\tlista = new_inputs\n",
    "\treturn lista\n",
    "\n",
    "\n",
    "# Backward pass\n",
    "def backward(network, expected):\n",
    "\tfor i in reversed(range(len(network))):\n",
    "\t\tcapa = network[i]\n",
    "\t\terrores = []\n",
    "\t\tif i != len(network)-1:#si la capa no es la ultima\n",
    "\n",
    "\t\t\tfor j in range(len(capa)):\n",
    "\t\t\t\terror = 0.0\n",
    "\t\t\t\tfor neuron in network[i + 1]:\n",
    "\t\t\t\t\t\n",
    "\t\t\t\t\terror += (neuron['weights'][j] * neuron['epsilon'])\n",
    "\t\t\t\terrores.append(error)\n",
    "\t\telse:\n",
    "\t\t\t\n",
    "\t\t\tfor j in range(len(capa)):\n",
    "\t\t\t\terrores.append(expected[j] - capa[j]['output'])\n",
    "\t\t\n",
    "\t\tfor j in range(len(capa)):\n",
    "\t\t\tderivada=capa[j]['output']*(1.0-capa[j]['output'])#derivada de la sigmoide\n",
    "\t\t\tcapa[j]['epsilon'] = errores[j] * derivada #se guarda el error en la neurona\n",
    "\n",
    "\n",
    "\n",
    "# Entrenamiento\n",
    "def train(network, train_data, indices, l_rate, n_epoch, n_outputs,listaerror):\n",
    "\tfor epoch in range(n_epoch):\n",
    "\t\tsuma_error = 0\n",
    "\t\tfor row in train_data:\n",
    "\t\t\th=0\n",
    "\t\t\toutputs = forward(network, row)\n",
    "\t\t\texpected=[0 for i in range(n_outputs)]\n",
    "\t\t\texpected[indices[h]-1]=1\n",
    "\t\t\tsuma_error += sum([(expected[i]-outputs[i])**2 for i in range(len(expected))])\n",
    "\t\t\tbackward(network, expected)\n",
    "\t\t\tfor i in range(len(network)):\n",
    "\t\t\t\tinputs = row[:-1]\n",
    "\t\t\t\tif i != 0:\n",
    "\t\t\t\t\tinputs = [neuron['output'] for neuron in network[i - 1]]\n",
    "\t\t\t\tfor neuron in network[i]:\n",
    "\t\t\t\t\tfor j in range(len(inputs)):\n",
    "\t\t\t\t\t\tneuron['weights'][j] += l_rate * neuron['epsilon'] * inputs[j]\n",
    "\t\t\t\t\tneuron['weights'][-1] += l_rate * neuron['epsilon']\n",
    "\t\t\th=h+1\n",
    "\t\tlistaerror.append(suma_error)\n",
    "\t\t\n",
    "\t\tprint('>epoch=%d,error=%.3f' % (epoch,suma_error))\t\t\n",
    "\t\t\n",
    "def traindecay(network, train_data, indices, l_rate,w_decay, n_epoch, n_outputs,listaerror):\n",
    "\tfor epoch in range(n_epoch):\n",
    "\t\tsuma_error = 0\n",
    "\t\tfor row in train_data:\n",
    "\t\t\th=0\n",
    "\t\t\toutputs = forward(network, row)\n",
    "\t\t\texpected=[0 for i in range(n_outputs)]\n",
    "\t\t\texpected[indices[h]-1]=1\n",
    "\t\t\tsuma_error += sum([(expected[i]-outputs[i])**2 for i in range(len(expected))])\n",
    "\t\t\tbackward(network, expected)\n",
    "\t\t\tfor i in range(len(network)):\n",
    "\t\t\t\tinputs = row[:-1]\n",
    "\t\t\t\tif i != 0:\n",
    "\t\t\t\t\tinputs = [neuron['output'] for neuron in network[i - 1]]\n",
    "\t\t\t\tfor neuron in network[i]:\n",
    "\t\t\t\t\tfor j in range(len(inputs)):\n",
    "\t\t\t\t\t\tneuron['weights'][j] += l_rate * neuron['epsilon'] * inputs[j] + w_decay*l_rate*neuron['weights'][j]\n",
    "\t\t\t\t\tneuron['weights'][-1] += l_rate * neuron['epsilon']+w_decay*l_rate*neuron['weights'][-1]\n",
    "\t\t\th=h+1\n",
    "\t\tlistaerror.append(suma_error)\n",
    "\n",
    "\t\tprint('>epoch=%d,error=%.3f' % (epoch,suma_error))\t"
   ]
  },
  {
   "cell_type": "code",
   "execution_count": 24,
   "metadata": {},
   "outputs": [
    {
     "name": "stdout",
     "output_type": "stream",
     "text": [
      ">epoch=0,error=12.079\n",
      ">epoch=1,error=1.062\n",
      ">epoch=2,error=0.567\n",
      ">epoch=3,error=0.382\n",
      ">epoch=4,error=0.286\n",
      ">epoch=5,error=0.228\n",
      ">epoch=6,error=0.189\n",
      ">epoch=7,error=0.161\n",
      ">epoch=8,error=0.140\n",
      ">epoch=9,error=0.124\n"
     ]
    },
    {
     "data": {
      "image/png": "[encoded data removed]",
      "text/plain": [
       "<matplotlib.figure.Figure at 0xb7c7e80>"
      ]
     },
     "metadata": {},
     "output_type": "display_data"
    }
   ],
   "source": [
    "import pandas as pd\n",
    "import matplotlib.pyplot as plt\n",
    "from sklearn.preprocessing import StandardScaler\n",
    "import random \n",
    "df=pd.read_csv(\"seeds.txt\", sep='\\t', index_col=7)\n",
    "data= df.values.tolist()\n",
    "\n",
    "\n",
    "indices=df.index.tolist()\n",
    "scaler=StandardScaler().fit(data)\n",
    "data=scaler.transform(data)\n",
    "n_inputs = len(data[0])\n",
    "n_hidden=3\n",
    "n_outputs = 3\n",
    "\n",
    "network = red(n_inputs, n_hidden, n_outputs)\n",
    "lr=0.5\n",
    "n_epochs=10\n",
    "err=[]\n",
    "train(network, data,indices, lr, n_epochs, n_outputs,err)\n",
    "\n",
    "plt.plot(err)\n",
    "plt.ylabel('loss')\n",
    "plt.xlabel('epoch')\n",
    "plt.show()\n"
   ]
  },
  {
   "cell_type": "code",
   "execution_count": 25,
   "metadata": {},
   "outputs": [
    {
     "name": "stdout",
     "output_type": "stream",
     "text": [
      ">epoch=0,error=11.728\n",
      ">epoch=1,error=0.662\n",
      ">epoch=2,error=0.204\n",
      ">epoch=3,error=0.068\n",
      ">epoch=4,error=0.021\n",
      ">epoch=5,error=0.006\n",
      ">epoch=6,error=0.001\n",
      ">epoch=7,error=0.000\n",
      ">epoch=8,error=0.000\n",
      ">epoch=9,error=0.000\n"
     ]
    },
    {
     "data": {
      "image/png": "[encoded data removed]",
      "text/plain": [
       "<matplotlib.figure.Figure at 0xbab42b0>"
      ]
     },
     "metadata": {},
     "output_type": "display_data"
    }
   ],
   "source": [
    "import pandas as pd\n",
    "import matplotlib.pyplot as plt\n",
    "import funciones as fun\n",
    "from sklearn.preprocessing import StandardScaler\n",
    "import random \n",
    "df=pd.read_csv(\"seeds.txt\", sep='\\t', index_col=7)\n",
    "data= df.values.tolist()\n",
    "\n",
    "indices=df.index.tolist()\n",
    "scaler=StandardScaler().fit(data)\n",
    "data=scaler.transform(data)\n",
    "n_inputs = len(data[0])\n",
    "n_hidden=3\n",
    "n_outputs = 3\n",
    "\n",
    "network = red(n_inputs, n_hidden, n_outputs)\n",
    "lr=0.5\n",
    "decay=0.001\n",
    "n_epochs=10\n",
    "err=[]\n",
    "traindecay(network, data,indices, lr,decay, n_epochs, n_outputs,err)\n",
    "\n",
    "plt.plot(err)\n",
    "plt.ylabel('loss')\n",
    "plt.xlabel('epoch')\n",
    "plt.show()\n"
   ]
  },
  {
   "cell_type": "markdown",
   "metadata": {
    "collapsed": true
   },
   "source": [
    "Se observa que con \"Weight Decay\" la convergencia es mas rapida que sin este."
   ]
  }
 ],
 "metadata": {
  "kernelspec": {
   "display_name": "Python 3",
   "language": "python",
   "name": "python3"
  },
  "language_info": {
   "codemirror_mode": {
    "name": "ipython",
    "version": 3
   },
   "file_extension": ".py",
   "mimetype": "text/x-python",
   "name": "python",
   "nbconvert_exporter": "python",
   "pygments_lexer": "ipython3",
   "version": "3.5.0"
  }
 },
 "nbformat": 4,
 "nbformat_minor": 2
}
