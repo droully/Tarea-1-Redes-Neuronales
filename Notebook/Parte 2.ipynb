{
 "cells": [
  {
   "cell_type": "markdown",
   "metadata": {},
   "source": [
    "Se pide implementar Back Propagation sin utilizar ninguna libreria salvo numpy. "
   ]
  },
  {
   "cell_type": "code",
   "execution_count": 2,
   "metadata": {
    "collapsed": true
   },
   "outputs": [],
   "source": [
    "import numpy as np\n",
    "\n",
    "\n",
    "#Inicilizar la red con todos los pesos nulos\n",
    "def red(n_inputs, n_hidden, n_outputs):\n",
    "\tred = []\n",
    "\thidden_layer = [{'weights':[0 for i in range(n_inputs + 1)]} for i in range(n_hidden)]\n",
    "\tred.append(hidden_layer)\n",
    "\toutput_layer = [{'weights':[0 for i in range(n_hidden + 1)]} for i in range(n_outputs)]\n",
    "\tred.append(output_layer)\n",
    "\treturn red"
   ]
  },
  {
   "cell_type": "markdown",
   "metadata": {},
   "source": [
    "La red esta definida como una lista (red) de listas (capas) de diccionarios (neuronas) con el index \"weights\", a estos diccionarios despues se les agregara el index \"epsilon\" que seria el error para el backpass.\n",
    "\n",
    "Es sabido que no es buena idea inicializar la red con estos valores, pero como el utilizar valores aleatorios implicaria ocupar una libreria no permitida, ser hara de todas formas. Por otro lado, lo importante de esta actividad es lado pedagogico, no implementar una verdadera funcion de Back Propagation con fines de aplicacion."
   ]
  },
  {
   "cell_type": "code",
   "execution_count": 3,
   "metadata": {
    "collapsed": true
   },
   "outputs": [],
   "source": [
    "# forwardpass\n",
    "def forward(red, inputs):\n",
    "\tlista = inputs\n",
    "\tfor capa in red:\n",
    "\t\tnew_inputs = []\n",
    "\t\tfor neuron in capa:\n",
    "\t\t\t\n",
    "\t\t\tact=np.dot(neuron[\"weights\"][0:-1],lista[0:len(neuron[\"weights\"])])+neuron[\"weights\"][-1]#activa\n",
    "\t\t\tneuron['output'] = 1.0/(1.0+np.exp(-act)) #sigmoide\n",
    "\t\t\tnew_inputs.append(neuron['output'])\n",
    "\t\t\t\n",
    "\t\tlista = new_inputs\n",
    "\treturn lista\n"
   ]
  },
  {
   "cell_type": "markdown",
   "metadata": {},
   "source": [
    "El forwardpass en la practica es la funcion objetivo pasando por todos los pesos, por lo tanto el input es la red con los pesos, y los datos.\n",
    "Esta funcion esta definida por neurona como el funcional lineal definido por los pesos de las neuronas anteriores y subsequente no linealidad, en este caso una sigmoide. "
   ]
  },
  {
   "cell_type": "code",
   "execution_count": null,
   "metadata": {
    "collapsed": true
   },
   "outputs": [],
   "source": [
    "# Backward pass\n",
    "def backward(network, expected):\n",
    "\tfor i in reversed(range(len(network))):\n",
    "\t\tcapa = network[i]\n",
    "\t\terrores = []\n",
    "\t\tif i != len(network)-1:#si la capa no es la ultima\n",
    "\n",
    "\t\t\tfor j in range(len(capa)):\n",
    "\t\t\t\terror = 0.0\n",
    "\t\t\t\tfor neuron in network[i + 1]:\n",
    "\t\t\t\t\t\n",
    "\t\t\t\t\terror += (neuron['weights'][j] * neuron['epsilon'])\n",
    "\t\t\t\terrores.append(error)\n",
    "\t\telse:\n",
    "\t\t\t\n",
    "\t\t\tfor j in range(len(capa)):\n",
    "\t\t\t\terrores.append(expected[j] - capa[j]['output'])\n",
    "\t\t\n",
    "\t\tfor j in range(len(capa)):\n",
    "\t\t\tderivada=capa[j]['output']*(1.0-capa[j]['output'])#derivada de la sigmoide\n",
    "\t\t\tcapa[j]['epsilon'] = errores[j] * derivada #se guarda el error en la neurona\n"
   ]
  },
  {
   "cell_type": "markdown",
   "metadata": {},
   "source": [
    "El Backward Pass es la transferencia del error desde la ultima neurona hacia la primera. Esta implementada por capa, si es la ulita el error es tan solo la diferencia del valor esperado con el obtenido, si no es la ultima, se suma por componente el de la neurona siguiente por su peso y la derivada de la sigmoide. Ya que se trabaja sobre los pesos y se necesitan los valores esperados, los inputs es la red y la lista con las etiquetas."
   ]
  },
  {
   "cell_type": "code",
   "execution_count": 18,
   "metadata": {
    "collapsed": true
   },
   "outputs": [],
   "source": [
    "# Entrenamiento\n",
    "def train(network, train_data, indices, l_rate, n_epoch, n_outputs,listaerror):\n",
    "\tfor epoch in range(n_epoch):\n",
    "\t\tsuma_error = 0\n",
    "\t\tfor row in train_data:\n",
    "\t\t\th=0\n",
    "\t\t\toutputs = forward(network, row)##feedforward\n",
    "\t\t\texpected=[0 for i in range(n_outputs)]\n",
    "\t\t\texpected[indices[h]-1]=1#bias\n",
    "\t\t\tsuma_error += sum([(expected[i]-outputs[i])**2 for i in range(len(expected))])##error cuadratico\n",
    "\t\t\tbackward(network, expected)##backpropagation\n",
    "            \n",
    "            \n",
    "\t\t\tfor i in range(len(network)):#se recorren las capas\n",
    "\t\t\t\tinputs = row[:-1]\n",
    "\t\t\t\tif i != 0:\n",
    "\t\t\t\t\tinputs = [neuron['output'] for neuron in network[i - 1]]\n",
    "\t\t\t\tfor neuron in network[i]:\n",
    "\t\t\t\t\tfor j in range(len(inputs)):\n",
    "\t\t\t\t\t\tneuron['weights'][j] += l_rate * neuron['epsilon'] * inputs[j] #stochastic\n",
    "\t\t\t\t\tneuron['weights'][-1] += l_rate * neuron['epsilon']                #gradient descent\n",
    "\t\t\th=h+1\n",
    "\t\tlistaerror.append(suma_error)\n",
    "\t\t\n",
    "\t\tprint('>epoch=%d,error=%.3f' % (epoch,suma_error))\t\t\n",
    "\t\t"
   ]
  },
  {
   "cell_type": "markdown",
   "metadata": {},
   "source": [
    "El entrenamiento esta definido por epoch, donde se utiliza los datos y se evaluan con feedforward. Luego, se actualizan los errores hacia atras con backpropagation. Por ultimo, se actualizan los pesos con SGD y se guarda el error.\n",
    "\n",
    "Los inputs son, la red para actualizar los pesos, la data de entrenamiento como input para feedforward, las etiquetas para comparar resultados, el learning rate para el sgd, el numero de epochs, la dimension del vector de salida y una lista vacia en la que se guardaran los errores."
   ]
  },
  {
   "cell_type": "code",
   "execution_count": 4,
   "metadata": {
    "collapsed": true
   },
   "outputs": [],
   "source": [
    "#entrenamiento con weight decay\n",
    "def traindecay(network, train_data, indices, l_rate,w_decay, n_epoch, n_outputs,listaerror):\n",
    "\tfor epoch in range(n_epoch):\n",
    "\t\tsuma_error = 0\n",
    "\t\tfor row in train_data:\n",
    "\t\t\th=0\n",
    "\t\t\toutputs = forward(network, row)\n",
    "\t\t\texpected=[0 for i in range(n_outputs)]\n",
    "\t\t\texpected[indices[h]-1]=1\n",
    "\t\t\tsuma_error += sum([(expected[i]-outputs[i])**2 for i in range(len(expected))])\n",
    "\t\t\tbackward(network, expected)\n",
    "\t\t\tfor i in range(len(network)):\n",
    "\t\t\t\tinputs = row[:-1]\n",
    "\t\t\t\tif i != 0:\n",
    "\t\t\t\t\tinputs = [neuron['output'] for neuron in network[i - 1]]\n",
    "\t\t\t\tfor neuron in network[i]:\n",
    "\t\t\t\t\tfor j in range(len(inputs)):\n",
    "\t\t\t\t\t\tneuron['weights'][j] += l_rate * neuron['epsilon'] * inputs[j] + w_decay*l_rate*neuron['weights'][j]\n",
    "\t\t\t\t\tneuron['weights'][-1] += l_rate * neuron['epsilon']+w_decay*l_rate*neuron['weights'][-1]\n",
    "\t\t\th=h+1                                    #el SGD se actualizo con el weight decay\n",
    "\t\tlistaerror.append(suma_error)\n",
    "\n",
    "\t\tprint('>epoch=%d,error=%.3f' % (epoch,suma_error))\t"
   ]
  },
  {
   "cell_type": "markdown",
   "metadata": {},
   "source": [
    "La implementacion de este metodo es identico al caso anterior salvo la parte del SGD donde se le resta el termino que varia al peso. La ventaja del weight decay es que evita el overfiting penalizando grandes valores de pesos."
   ]
  },
  {
   "cell_type": "code",
   "execution_count": 19,
   "metadata": {},
   "outputs": [
    {
     "name": "stdout",
     "output_type": "stream",
     "text": [
      ">epoch=0,error=12.079\n",
      ">epoch=1,error=1.062\n",
      ">epoch=2,error=0.567\n",
      ">epoch=3,error=0.382\n",
      ">epoch=4,error=0.286\n",
      ">epoch=5,error=0.228\n",
      ">epoch=6,error=0.189\n",
      ">epoch=7,error=0.161\n",
      ">epoch=8,error=0.140\n",
      ">epoch=9,error=0.124\n",
      "[12.078507559974424, 1.0615827565110394, 0.56712181766212033, 0.382376302054246, 0.2864456295188671, 0.22802065796684648, 0.18885224390116817, 0.16084260786352728, 0.13985933219329827, 0.12357769433845449]\n"
     ]
    },
    {
     "data": {
      "image/png": "[encoded data removed]",
      "text/plain": [
       "<matplotlib.figure.Figure at 0xb997860>"
      ]
     },
     "metadata": {},
     "output_type": "display_data"
    }
   ],
   "source": [
    "import pandas as pd\n",
    "import matplotlib.pyplot as plt\n",
    "from sklearn.preprocessing import StandardScaler\n",
    "import random \n",
    "df=pd.read_csv(\"seeds.txt\", sep='\\t', index_col=7)\n",
    "data= df.values.tolist()\n",
    "\n",
    "\n",
    "indices=df.index.tolist()\n",
    "scaler=StandardScaler().fit(data)\n",
    "data=scaler.transform(data)\n",
    "n_inputs = len(data[0])\n",
    "n_hidden=3\n",
    "n_outputs = 3\n",
    "\n",
    "network = red(n_inputs, n_hidden, n_outputs)\n",
    "lr=0.5\n",
    "n_epochs=10\n",
    "err=[]\n",
    "train(network, data,indices, lr, n_epochs, n_outputs,err)\n",
    "print(err)\n",
    "plt.plot(err)\n",
    "plt.ylabel('loss')\n",
    "plt.xlabel('epoch')\n",
    "plt.show()\n"
   ]
  },
  {
   "cell_type": "code",
   "execution_count": 20,
   "metadata": {},
   "outputs": [
    {
     "name": "stdout",
     "output_type": "stream",
     "text": [
      ">epoch=0,error=11.728\n",
      ">epoch=1,error=0.662\n",
      ">epoch=2,error=0.204\n",
      ">epoch=3,error=0.068\n",
      ">epoch=4,error=0.021\n",
      ">epoch=5,error=0.006\n",
      ">epoch=6,error=0.001\n",
      ">epoch=7,error=0.000\n",
      ">epoch=8,error=0.000\n",
      ">epoch=9,error=0.000\n",
      "[11.72776800533099, 0.66249107412473018, 0.20386233355870653, 0.067975994689272234, 0.02124752115244959, 0.0058637026430002253, 0.0013790295556345474, 0.00026905145326565154, 4.2476479611572528e-05, 5.2887672930891408e-06]\n"
     ]
    },
    {
     "data": {
      "image/png": "[encoded data removed]",
      "text/plain": [
       "<matplotlib.figure.Figure at 0xba5d9b0>"
      ]
     },
     "metadata": {},
     "output_type": "display_data"
    }
   ],
   "source": [
    "import pandas as pd\n",
    "import matplotlib.pyplot as plt\n",
    "import funciones as fun\n",
    "from sklearn.preprocessing import StandardScaler\n",
    "import random \n",
    "df=pd.read_csv(\"seeds.txt\", sep='\\t', index_col=7)\n",
    "data= df.values.tolist()\n",
    "\n",
    "indices=df.index.tolist()\n",
    "scaler=StandardScaler().fit(data)\n",
    "data=scaler.transform(data)\n",
    "n_inputs = len(data[0])\n",
    "n_hidden=3\n",
    "n_outputs = 3\n",
    "\n",
    "network = red(n_inputs, n_hidden, n_outputs)\n",
    "lr=0.5\n",
    "decay=0.001\n",
    "n_epochs=10\n",
    "err=[]\n",
    "traindecay(network, data,indices, lr,decay, n_epochs, n_outputs,err)\n",
    "print(err)\n",
    "plt.plot(err)\n",
    "plt.ylabel('loss')\n",
    "plt.xlabel('epoch')\n",
    "plt.show()\n"
   ]
  },
  {
   "cell_type": "markdown",
   "metadata": {
    "collapsed": true
   },
   "source": [
    "Con \"Weight Decay\" se observa una mejora en la convergencia, eso si, esto no queda claro en el grafico, pero si uno observa los valores se nota que llega antes a ser 0 en la milesima."
   ]
  }
 ],
 "metadata": {
  "kernelspec": {
   "display_name": "Python 3",
   "language": "python",
   "name": "python3"
  },
  "language_info": {
   "codemirror_mode": {
    "name": "ipython",
    "version": 3
   },
   "file_extension": ".py",
   "mimetype": "text/x-python",
   "name": "python",
   "nbconvert_exporter": "python",
   "pygments_lexer": "ipython3",
   "version": "3.5.0"
  }
 },
 "nbformat": 4,
 "nbformat_minor": 2
}
